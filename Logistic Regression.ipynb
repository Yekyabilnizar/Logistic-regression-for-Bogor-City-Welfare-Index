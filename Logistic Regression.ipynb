{
 "cells": [
  {
   "metadata": {
    "ExecuteTime": {
     "end_time": "2025-06-13T02:39:19.968410Z",
     "start_time": "2025-06-13T02:39:18.360514Z"
    }
   },
   "cell_type": "code",
   "source": [
    "import pandas as pd\n",
    "import matplotlib.pyplot as plt\n",
    "from sklearn.linear_model import LogisticRegression\n",
    "from sklearn.model_selection import train_test_split\n",
    "from sklearn.preprocessing import OneHotEncoder\n",
    "from sklearn.compose import ColumnTransformer\n",
    "from sklearn.pipeline import Pipeline\n",
    "from sklearn.metrics import confusion_matrix, classification_report, ConfusionMatrixDisplay\n"
   ],
   "id": "6bb86ed95f8874e7",
   "outputs": [],
   "execution_count": 1
  },
  {
   "metadata": {
    "ExecuteTime": {
     "end_time": "2025-06-12T09:59:49.277357Z",
     "start_time": "2025-06-12T09:59:49.238135Z"
    }
   },
   "cell_type": "code",
   "source": [
    "# Load data\n",
    "data = pd.read_excel(\"hasil_cluster.xlsx\", dtype={\n",
    "    \"Usia\": str, \"Pendidikan_Terakhir\": str, \"Pekerjaan_Kepala_Keluarga\": str,\n",
    "    \"Pendapatan_Bulanan\": str, \"Pengeluaran_Bulanan\": str, \"Jumlah_Tanggungan\": str,\n",
    "    \"Jumlah_Kendaraan\": str, \"Kepemilikan_Kendaraan\": str, \"Kepemilikan_Aset\": str, \"Cluster\": str\n",
    "})\n",
    "# Cek struktur data\n",
    "print(data.info())"
   ],
   "id": "bf0ac43b4ee3e847",
   "outputs": [
    {
     "name": "stdout",
     "output_type": "stream",
     "text": [
      "<class 'pandas.core.frame.DataFrame'>\n",
      "RangeIndex: 127 entries, 0 to 126\n",
      "Data columns (total 10 columns):\n",
      " #   Column                     Non-Null Count  Dtype \n",
      "---  ------                     --------------  ----- \n",
      " 0   Cluster                    127 non-null    object\n",
      " 1   Usia                       127 non-null    object\n",
      " 2   Pendidikan_Terakhir        127 non-null    object\n",
      " 3   Pekerjaan_Kepala_Keluarga  127 non-null    object\n",
      " 4   Pendapatan_Bulanan         127 non-null    object\n",
      " 5   Pengeluaran_Bulanan        127 non-null    object\n",
      " 6   Jumlah_Tanggungan          127 non-null    object\n",
      " 7   Jumlah_Kendaraan           127 non-null    object\n",
      " 8   Kepemilikan_Kendaraan      127 non-null    object\n",
      " 9   Kepemilikan_Aset           127 non-null    object\n",
      "dtypes: object(10)\n",
      "memory usage: 10.1+ KB\n",
      "None\n"
     ]
    }
   ],
   "execution_count": 51
  },
  {
   "metadata": {
    "ExecuteTime": {
     "end_time": "2025-06-12T09:59:51.718762Z",
     "start_time": "2025-06-12T09:59:51.706397Z"
    }
   },
   "cell_type": "code",
   "source": [
    "# Konversi fitur numerik ke tipe numerik\n",
    "num_cols = [\"Usia\", \"Pendapatan_Bulanan\", \"Pengeluaran_Bulanan\", \"Jumlah_Tanggungan\", \"Jumlah_Kendaraan\"]\n",
    "data[num_cols] = data[num_cols].apply(pd.to_numeric, errors='coerce')\n",
    "\n",
    "# Drop NA setelah konversi tipe\n",
    "data = data.dropna()"
   ],
   "id": "47b04c034438cecf",
   "outputs": [],
   "execution_count": 52
  },
  {
   "metadata": {
    "ExecuteTime": {
     "end_time": "2025-06-12T09:59:52.990196Z",
     "start_time": "2025-06-12T09:59:52.982492Z"
    }
   },
   "cell_type": "code",
   "source": [
    "# Pisahkan fitur dan target\n",
    "X = data[['Usia', 'Pendidikan_Terakhir', 'Pekerjaan_Kepala_Keluarga', 'Pendapatan_Bulanan',\n",
    "          'Pengeluaran_Bulanan', 'Jumlah_Tanggungan', 'Jumlah_Kendaraan',\n",
    "          'Kepemilikan_Kendaraan', 'Kepemilikan_Aset']]\n",
    "y = data['Cluster']"
   ],
   "id": "b1adb64d3a8fe0d3",
   "outputs": [],
   "execution_count": 53
  },
  {
   "metadata": {
    "ExecuteTime": {
     "end_time": "2025-06-12T09:59:55.156940Z",
     "start_time": "2025-06-12T09:59:55.148796Z"
    }
   },
   "cell_type": "code",
   "source": [
    "# Split data\n",
    "X_train, X_test, y_train, y_test = train_test_split(X, y, test_size=0.2, random_state=42)\n"
   ],
   "id": "a134953af686c3ab",
   "outputs": [],
   "execution_count": 54
  },
  {
   "metadata": {
    "ExecuteTime": {
     "end_time": "2025-06-12T09:59:56.939583Z",
     "start_time": "2025-06-12T09:59:56.934011Z"
    }
   },
   "cell_type": "code",
   "source": [
    "# Fitur\n",
    "categorical_features = ['Pendidikan_Terakhir', 'Pekerjaan_Kepala_Keluarga', 'Kepemilikan_Kendaraan', 'Kepemilikan_Aset']\n",
    "numeric_features = ['Usia', 'Pendapatan_Bulanan', 'Pengeluaran_Bulanan', 'Jumlah_Tanggungan', 'Jumlah_Kendaraan']\n"
   ],
   "id": "29769c6d22165bf7",
   "outputs": [],
   "execution_count": 55
  },
  {
   "metadata": {
    "ExecuteTime": {
     "end_time": "2025-06-12T09:59:58.113152Z",
     "start_time": "2025-06-12T09:59:58.108034Z"
    }
   },
   "cell_type": "code",
   "source": [
    "# Preprocessor\n",
    "preprocessor = ColumnTransformer(\n",
    "    transformers=[\n",
    "        ('cat', OneHotEncoder(drop='first', handle_unknown='ignore'), categorical_features)\n",
    "    ],\n",
    "    remainder='passthrough'  # numerik tetap\n",
    ")\n"
   ],
   "id": "e2d7484ea2c892c5",
   "outputs": [],
   "execution_count": 56
  },
  {
   "metadata": {
    "ExecuteTime": {
     "end_time": "2025-06-12T10:00:00.526014Z",
     "start_time": "2025-06-12T10:00:00.520954Z"
    }
   },
   "cell_type": "code",
   "source": [
    "# Pipeline model\n",
    "model = Pipeline(steps=[\n",
    "    ('preprocessor', preprocessor),\n",
    "    ('classifier', LogisticRegression(multi_class='multinomial', solver='lbfgs', max_iter=1000))\n",
    "])"
   ],
   "id": "2cd63a2d4b4648a4",
   "outputs": [],
   "execution_count": 57
  },
  {
   "metadata": {
    "ExecuteTime": {
     "end_time": "2025-06-12T10:00:02.229610Z",
     "start_time": "2025-06-12T10:00:02.140505Z"
    }
   },
   "cell_type": "code",
   "source": [
    "# Fit model\n",
    "model.fit(X_train, y_train)\n",
    "score = model.score(X_test, y_test)\n",
    "print(f\"Akurasi model: {score:.2f}\")"
   ],
   "id": "4c522974e92ec8cf",
   "outputs": [
    {
     "name": "stdout",
     "output_type": "stream",
     "text": [
      "Akurasi model: 0.85\n"
     ]
    },
    {
     "name": "stderr",
     "output_type": "stream",
     "text": [
      "C:\\Users\\cikar\\AppData\\Local\\Programs\\Python\\Python313\\Lib\\site-packages\\sklearn\\linear_model\\_logistic.py:1264: FutureWarning: 'multi_class' was deprecated in version 1.5 and will be removed in 1.7. From then on, it will always use 'multinomial'. Leave it to its default value to avoid this warning.\n",
      "  warnings.warn(\n",
      "C:\\Users\\cikar\\AppData\\Local\\Programs\\Python\\Python313\\Lib\\site-packages\\sklearn\\preprocessing\\_encoders.py:246: UserWarning: Found unknown categories in columns [0] during transform. These unknown categories will be encoded as all zeros\n",
      "  warnings.warn(\n"
     ]
    }
   ],
   "execution_count": 58
  },
  {
   "metadata": {
    "ExecuteTime": {
     "end_time": "2025-06-12T10:00:05.409420Z",
     "start_time": "2025-06-12T10:00:05.404218Z"
    }
   },
   "cell_type": "code",
   "source": [
    "# Ambil model regresi asli\n",
    "clf = model.named_steps['classifier']\n",
    "encoder = model.named_steps['preprocessor'].named_transformers_['cat']\n",
    "encoded_cat_features = encoder.get_feature_names_out(categorical_features)\n"
   ],
   "id": "d5770d9bca44d657",
   "outputs": [],
   "execution_count": 59
  },
  {
   "metadata": {
    "ExecuteTime": {
     "end_time": "2025-06-12T10:00:06.911609Z",
     "start_time": "2025-06-12T10:00:06.904290Z"
    }
   },
   "cell_type": "code",
   "source": [
    "# Buat nama kolom lengkap\n",
    "feature_names = list(encoded_cat_features) + numeric_features\n",
    "\n",
    "# Ambil koefisien dan intercept\n",
    "coef_df = pd.DataFrame(clf.coef_, columns=feature_names, index=clf.classes_)\n",
    "coef_df['Intercept'] = clf.intercept_\n",
    "\n",
    "# Ringkas koefisien\n",
    "ringkasan_koef = pd.DataFrame(index=clf.classes_)"
   ],
   "id": "d4f6ae94b441775f",
   "outputs": [],
   "execution_count": 60
  },
  {
   "metadata": {
    "ExecuteTime": {
     "end_time": "2025-06-12T10:00:08.904305Z",
     "start_time": "2025-06-12T10:00:08.886106Z"
    }
   },
   "cell_type": "code",
   "source": [
    "# Gabungkan dummy kategori\n",
    "for var in categorical_features:\n",
    "    kolom_dummy = [col for col in coef_df.columns if col.startswith(var + '_')]\n",
    "    ringkasan_koef[var] = coef_df[kolom_dummy].sum(axis=1)\n",
    "\n",
    "# Tambahkan variabel numerik dan intercept\n",
    "for var in numeric_features:\n",
    "    ringkasan_koef[var] = coef_df[var]\n",
    "ringkasan_koef['Intercept'] = coef_df['Intercept']\n",
    "\n",
    "# Tampilkan ringkasan koefisien\n",
    "print(\"Koefisien Regresi Multinomial (per variabel asli):\\n\")\n",
    "print(ringkasan_koef.round(4).T)"
   ],
   "id": "b3178b73423ebc98",
   "outputs": [
    {
     "name": "stdout",
     "output_type": "stream",
     "text": [
      "Koefisien Regresi Multinomial (per variabel asli):\n",
      "\n",
      "                                1       2       3\n",
      "Pendidikan_Terakhir       -0.3005  0.8415 -0.5410\n",
      "Pekerjaan_Kepala_Keluarga  0.1795 -0.1643 -0.0152\n",
      "Kepemilikan_Kendaraan      0.1301 -0.3152  0.1851\n",
      "Kepemilikan_Aset          -0.6614  1.3089 -0.6475\n",
      "Usia                      -0.0698 -0.0081  0.0779\n",
      "Pendapatan_Bulanan        -0.0000  0.0000  0.0000\n",
      "Pengeluaran_Bulanan        0.0000  0.0000 -0.0000\n",
      "Jumlah_Tanggungan          1.9951 -0.7827 -1.2124\n",
      "Jumlah_Kendaraan           0.0125  0.1687 -0.1812\n",
      "Intercept                 -0.4012  0.7929 -0.3917\n"
     ]
    }
   ],
   "execution_count": 61
  },
  {
   "metadata": {
    "ExecuteTime": {
     "end_time": "2025-06-12T10:00:12.259733Z",
     "start_time": "2025-06-12T10:00:12.247970Z"
    }
   },
   "cell_type": "code",
   "source": [
    "# Prediksi\n",
    "y_pred = model.predict(X_test)\n",
    "\n",
    "# Contoh hasil prediksi\n",
    "result_df = pd.DataFrame({'Aktual': y_test.values, 'Prediksi': y_pred})\n",
    "print(\"\\nContoh hasil prediksi:\\n\")\n",
    "print(result_df.head(10))"
   ],
   "id": "5d2b94facddc38d7",
   "outputs": [
    {
     "name": "stdout",
     "output_type": "stream",
     "text": [
      "\n",
      "Contoh hasil prediksi:\n",
      "\n",
      "  Aktual Prediksi\n",
      "0      1        1\n",
      "1      2        2\n",
      "2      1        1\n",
      "3      2        2\n",
      "4      1        1\n",
      "5      2        2\n",
      "6      3        3\n",
      "7      1        2\n",
      "8      2        2\n",
      "9      2        2\n"
     ]
    },
    {
     "name": "stderr",
     "output_type": "stream",
     "text": [
      "C:\\Users\\cikar\\AppData\\Local\\Programs\\Python\\Python313\\Lib\\site-packages\\sklearn\\preprocessing\\_encoders.py:246: UserWarning: Found unknown categories in columns [0] during transform. These unknown categories will be encoded as all zeros\n",
      "  warnings.warn(\n"
     ]
    }
   ],
   "execution_count": 62
  },
  {
   "metadata": {
    "ExecuteTime": {
     "end_time": "2025-06-12T10:00:14.877897Z",
     "start_time": "2025-06-12T10:00:14.683049Z"
    }
   },
   "cell_type": "code",
   "source": [
    "# Ambil label kelas dari model\n",
    "labels = clf.classes_\n",
    "\n",
    "# Evaluasi\n",
    "print(\"\\nClassification Report:\\n\")\n",
    "print(classification_report(y_test, y_pred, labels=labels, target_names=labels))\n",
    "\n",
    "# Confusion matrix\n",
    "cm = confusion_matrix(y_test, y_pred, labels=labels)\n",
    "disp = ConfusionMatrixDisplay(confusion_matrix=cm, display_labels=labels)\n",
    "disp.plot(cmap='Blues')\n",
    "plt.title(\"Confusion Matrix\")\n",
    "plt.show()\n"
   ],
   "id": "555bdd97985f20a0",
   "outputs": [
    {
     "name": "stdout",
     "output_type": "stream",
     "text": [
      "\n",
      "Classification Report:\n",
      "\n",
      "              precision    recall  f1-score   support\n",
      "\n",
      "           1       0.80      0.80      0.80        10\n",
      "           2       0.83      0.83      0.83        12\n",
      "           3       1.00      1.00      1.00         4\n",
      "\n",
      "    accuracy                           0.85        26\n",
      "   macro avg       0.88      0.88      0.88        26\n",
      "weighted avg       0.85      0.85      0.85        26\n",
      "\n"
     ]
    },
    {
     "data": {
      "text/plain": [
       "<Figure size 640x480 with 2 Axes>"
      ],
      "image/png": "[encoded data removed]"
     },
     "metadata": {},
     "output_type": "display_data"
    }
   ],
   "execution_count": 63
  },
  {
   "metadata": {
    "ExecuteTime": {
     "end_time": "2025-06-12T10:00:40.186744Z",
     "start_time": "2025-06-12T10:00:40.068752Z"
    }
   },
   "cell_type": "code",
   "source": [
    "import numpy as np\n",
    "import pandas as pd\n",
    "from sklearn.linear_model import LogisticRegression\n",
    "from sklearn.preprocessing import OneHotEncoder\n",
    "from sklearn.compose import ColumnTransformer\n",
    "from sklearn.pipeline import Pipeline\n",
    "from sklearn.model_selection import train_test_split\n",
    "from sklearn.utils import resample\n",
    "import scipy.stats as stats\n",
    "\n",
    "# Asumsikan `data` sudah dibaca seperti sebelumnya\n",
    "X = data[['Usia', 'Pendidikan_Terakhir', 'Pekerjaan_Kepala_Keluarga',\n",
    "          'Pendapatan_Bulanan', 'Pengeluaran_Bulanan', 'Jumlah_Tanggungan',\n",
    "          'Jumlah_Kendaraan', 'Kepemilikan_Kendaraan', 'Kepemilikan_Aset']]\n",
    "y = data['Cluster']\n",
    "\n",
    "# Split data\n",
    "X_train, X_test, y_train, y_test = train_test_split(X, y, test_size=0.2, random_state=42)\n",
    "\n",
    "# Preprocessing\n",
    "categorical_features = ['Pendidikan_Terakhir', 'Pekerjaan_Kepala_Keluarga', 'Kepemilikan_Kendaraan', 'Kepemilikan_Aset']\n",
    "numeric_features = ['Usia','Pendapatan_Bulanan','Pengeluaran_Bulanan','Jumlah_Tanggungan','Jumlah_Kendaraan']\n",
    "\n",
    "encoder = ColumnTransformer([\n",
    "    ('cat', OneHotEncoder(drop='first', handle_unknown='ignore'), categorical_features)\n",
    "], remainder='passthrough')\n",
    "\n",
    "# Dapatkan fitur setelah one-hot\n",
    "X_train_encoded = encoder.fit_transform(X_train)\n",
    "feature_names = encoder.get_feature_names_out()\n",
    "\n",
    "# Model multinomial\n",
    "model = LogisticRegression(multi_class='multinomial', solver='lbfgs', max_iter=1000)\n",
    "model.fit(X_train_encoded, y_train)\n",
    "\n",
    "# Ambil koefisien dan prediksi probabilitas\n",
    "coef = model.coef_  # shape: (n_classes, n_features)\n",
    "intercept = model.intercept_\n",
    "\n",
    "# Prediksi probabilitas\n",
    "probs = model.predict_proba(X_train_encoded)\n",
    "\n",
    "# Hitung p-value untuk setiap koefisien\n",
    "n_classes = coef.shape[0]\n",
    "n_obs = X_train_encoded.shape[0]\n",
    "p_values = []\n",
    "\n",
    "for k in range(n_classes):\n",
    "    p = probs[:, k].reshape(-1, 1)\n",
    "    W = np.diagflat(p * (1 - p))  # Matriks bobot\n",
    "    X_design = np.hstack([np.ones((X_train_encoded.shape[0], 1)), X_train_encoded])\n",
    "    try:\n",
    "        cov_matrix = np.linalg.inv(X_design.T @ W @ X_design)\n",
    "        se = np.sqrt(np.diag(cov_matrix))\n",
    "        z = np.hstack([intercept[k], coef[k]]) / se\n",
    "        p_val = 2 * (1 - stats.norm.cdf(np.abs(z)))\n",
    "    except np.linalg.LinAlgError:\n",
    "        # Jika singular, isi dengan NaN\n",
    "        p_val = [np.nan] * (X_design.shape[1])\n",
    "    p_values.append(p_val)\n",
    "\n",
    "# Buat DataFrame hasil\n",
    "columns = ['Intercept'] + feature_names.tolist()\n",
    "pval_df = pd.DataFrame(p_values, columns=columns, index=[f\"Class_{c}\" for c in model.classes_])\n",
    "coef_df = pd.DataFrame(np.hstack([intercept[:, None], coef]), columns=columns, index=[f\"Class_{c}\" for c in model.classes_])\n",
    "\n",
    "print(\"Koefisien:\\n\", coef_df.round(4))\n",
    "print(\"\\nP-Values:\\n\", pval_df.round(4))\n"
   ],
   "id": "89aab07edd10a5",
   "outputs": [
    {
     "name": "stdout",
     "output_type": "stream",
     "text": [
      "Koefisien:\n",
      "          Intercept  cat__Pendidikan_Terakhir_2  cat__Pendidikan_Terakhir_3  \\\n",
      "Class_1    -0.4012                      0.2514                     -0.5926   \n",
      "Class_2     0.7929                     -0.0295                      0.9201   \n",
      "Class_3    -0.3917                     -0.2219                     -0.3275   \n",
      "\n",
      "         cat__Pendidikan_Terakhir_4  cat__Pendidikan_Terakhir_5  \\\n",
      "Class_1                      0.0038                      0.0088   \n",
      "Class_2                     -0.0447                      0.0677   \n",
      "Class_3                      0.0408                     -0.0765   \n",
      "\n",
      "         cat__Pendidikan_Terakhir_6  cat__Pekerjaan_Kepala_Keluarga_2  \\\n",
      "Class_1                      0.0281                           -0.0038   \n",
      "Class_2                     -0.0722                            0.1752   \n",
      "Class_3                      0.0441                           -0.1714   \n",
      "\n",
      "         cat__Pekerjaan_Kepala_Keluarga_3  cat__Pekerjaan_Kepala_Keluarga_4  \\\n",
      "Class_1                            0.2616                           -0.1002   \n",
      "Class_2                           -0.2762                            0.0457   \n",
      "Class_3                            0.0146                            0.0546   \n",
      "\n",
      "         cat__Pekerjaan_Kepala_Keluarga_5  ...  cat__Kepemilikan_Kendaraan_3  \\\n",
      "Class_1                             0.022  ...                        0.2965   \n",
      "Class_2                            -0.109  ...                       -0.3795   \n",
      "Class_3                             0.087  ...                        0.0830   \n",
      "\n",
      "         cat__Kepemilikan_Kendaraan_4  cat__Kepemilikan_Aset_2  \\\n",
      "Class_1                       -0.1375                  -0.3705   \n",
      "Class_2                        0.1026                   0.7404   \n",
      "Class_3                        0.0349                  -0.3700   \n",
      "\n",
      "         cat__Kepemilikan_Aset_3  cat__Kepemilikan_Aset_4  remainder__Usia  \\\n",
      "Class_1                  -0.3151                   0.0242          -0.0698   \n",
      "Class_2                   0.6092                  -0.0407          -0.0081   \n",
      "Class_3                  -0.2941                   0.0166           0.0779   \n",
      "\n",
      "         remainder__Pendapatan_Bulanan  remainder__Pengeluaran_Bulanan  \\\n",
      "Class_1                           -0.0                             0.0   \n",
      "Class_2                            0.0                             0.0   \n",
      "Class_3                            0.0                            -0.0   \n",
      "\n",
      "         remainder__Jumlah_Tanggungan  remainder__Jumlah_Kendaraan  \n",
      "Class_1                        1.9951                       0.0125  \n",
      "Class_2                       -0.7827                       0.1687  \n",
      "Class_3                       -1.2124                      -0.1812  \n",
      "\n",
      "[3 rows x 21 columns]\n",
      "\n",
      "P-Values:\n",
      "          Intercept  cat__Pendidikan_Terakhir_2  cat__Pendidikan_Terakhir_3  \\\n",
      "Class_1     0.8910                      0.8998                      0.7673   \n",
      "Class_2     0.6933                      0.9849                      0.5008   \n",
      "Class_3     0.8749                      0.9046                      0.8417   \n",
      "\n",
      "         cat__Pendidikan_Terakhir_4  cat__Pendidikan_Terakhir_5  \\\n",
      "Class_1                      0.9990                      0.9968   \n",
      "Class_2                      0.9812                      0.9628   \n",
      "Class_3                      0.9837                      0.9651   \n",
      "\n",
      "         cat__Pendidikan_Terakhir_6  cat__Pekerjaan_Kepala_Keluarga_2  \\\n",
      "Class_1                      0.9915                            0.9977   \n",
      "Class_2                      0.9726                            0.8550   \n",
      "Class_3                      0.9897                            0.8880   \n",
      "\n",
      "         cat__Pekerjaan_Kepala_Keluarga_3  cat__Pekerjaan_Kepala_Keluarga_4  \\\n",
      "Class_1                            0.8433                            0.9408   \n",
      "Class_2                            0.7813                            0.9680   \n",
      "Class_3                            0.9907                            0.9726   \n",
      "\n",
      "         cat__Pekerjaan_Kepala_Keluarga_5  ...  cat__Kepemilikan_Kendaraan_3  \\\n",
      "Class_1                            0.9923  ...                        0.8176   \n",
      "Class_2                            0.9464  ...                        0.7054   \n",
      "Class_3                            0.9710  ...                        0.9518   \n",
      "\n",
      "         cat__Kepemilikan_Kendaraan_4  cat__Kepemilikan_Aset_2  \\\n",
      "Class_1                        0.9510                   0.7844   \n",
      "Class_2                        0.9483                   0.4806   \n",
      "Class_3                        0.9852                   0.8126   \n",
      "\n",
      "         cat__Kepemilikan_Aset_3  cat__Kepemilikan_Aset_4  remainder__Usia  \\\n",
      "Class_1                   0.7786                   0.9970           0.2038   \n",
      "Class_2                   0.4856                   0.9918           0.8133   \n",
      "Class_3                   0.8040                   0.9969           0.0765   \n",
      "\n",
      "         remainder__Pendapatan_Bulanan  remainder__Pengeluaran_Bulanan  \\\n",
      "Class_1                         0.6265                          0.4811   \n",
      "Class_2                         0.5606                          0.8461   \n",
      "Class_3                         0.4117                          0.2981   \n",
      "\n",
      "         remainder__Jumlah_Tanggungan  remainder__Jumlah_Kendaraan  \n",
      "Class_1                        0.0092                       0.9911  \n",
      "Class_2                        0.0619                       0.8214  \n",
      "Class_3                        0.0249                       0.8712  \n",
      "\n",
      "[3 rows x 21 columns]\n"
     ]
    },
    {
     "name": "stderr",
     "output_type": "stream",
     "text": [
      "C:\\Users\\cikar\\AppData\\Local\\Programs\\Python\\Python313\\Lib\\site-packages\\sklearn\\linear_model\\_logistic.py:1264: FutureWarning: 'multi_class' was deprecated in version 1.5 and will be removed in 1.7. From then on, it will always use 'multinomial'. Leave it to its default value to avoid this warning.\n",
      "  warnings.warn(\n"
     ]
    }
   ],
   "execution_count": 66
  },
  {
   "metadata": {},
   "cell_type": "code",
   "outputs": [],
   "execution_count": null,
   "source": [
    "import pandas as pd\n",
    "import numpy as np\n",
    "from sklearn.preprocessing import OneHotEncoder\n",
    "from sklearn.compose import ColumnTransformer\n",
    "from sklearn.pipeline import Pipeline\n",
    "from sklearn.model_selection import train_test_split\n",
    "from sklearn.linear_model import LogisticRegression\n",
    "from scipy.stats import norm\n",
    "\n",
    "# 1. Load dan siapkan data\n",
    "data = pd.read_excel(\"hasil_encodee.xlsx\")\n",
    "\n",
    "# Pastikan kolom numerik valid\n",
    "num_cols = ['Usia', 'Pendapatan_Bulanan', 'Pengeluaran_Bulanan', 'Jumlah_Tanggungan', 'Jumlah_Kendaraan']\n",
    "for col in num_cols:\n",
    "    data[col] = pd.to_numeric(data[col], errors='coerce')\n",
    "\n",
    "X = data[['Usia', 'Pendidikan_Terakhir', 'Pekerjaan_Kepala_Keluarga', 'Pendapatan_Bulanan',\n",
    "          'Pengeluaran_Bulanan', 'Jumlah_Tanggungan', 'Jumlah_Kendaraan',\n",
    "          'Kepemilikan_Kendaraan', 'Kepemilikan_Aset']]\n",
    "y = data['Cluster']\n",
    "\n",
    "# 2. Train/test split\n",
    "X_train, X_test, y_train, y_test = train_test_split(X, y, test_size=0.2, random_state=42)\n",
    "\n",
    "# 3. One-hot encoding\n",
    "categorical_features = ['Pendidikan_Terakhir', 'Pekerjaan_Kepala_Keluarga',\n",
    "                        'Kepemilikan_Kendaraan', 'Kepemilikan_Aset']\n",
    "numeric_features = ['Usia', 'Pendapatan_Bulanan', 'Pengeluaran_Bulanan',\n",
    "                    'Jumlah_Tanggungan', 'Jumlah_Kendaraan']\n",
    "\n",
    "preprocessor = ColumnTransformer([\n",
    "    ('cat', OneHotEncoder(drop='first'), categorical_features)\n",
    "], remainder='passthrough')\n",
    "\n",
    "X_encoded = preprocessor.fit_transform(X_train)\n",
    "feature_names = list(preprocessor.named_transformers_['cat'].get_feature_names_out(categorical_features)) + numeric_features\n",
    "X_encoded_df = pd.DataFrame(X_encoded, columns=feature_names)\n",
    "\n",
    "# 4. Logistic Regression\n",
    "model = LogisticRegression(multi_class='multinomial', solver='lbfgs', max_iter=1000)\n",
    "model.fit(X_encoded_df, y_train)\n",
    "\n",
    "# 5. Hitung p-value manual\n",
    "preds = model.predict_proba(X_encoded_df)\n",
    "coefs = model.coef_\n",
    "n_classes, n_features = coefs.shape\n",
    "\n",
    "# Stabilkan inversi dengan pseudo-inverse\n",
    "X_design = np.hstack([np.ones((X_encoded_df.shape[0], 1)), X_encoded_df.values])\n",
    "var_betas = []\n",
    "for i in range(coefs.shape[0]):\n",
    "    p = preds[:, i]\n",
    "    W = np.diag(p * (1 - p) + 1e-5)  # tambah noise kecil agar tidak singular\n",
    "    XtWX_inv = np.linalg.pinv(X_design.T @ W @ X_design)  # gunakan pseudo-inverse\n",
    "    var_betas.append(np.diag(XtWX_inv)[1:])\n",
    "\n",
    "var_betas = np.array(var_betas)\n",
    "z_scores = coefs / np.sqrt(var_betas)\n",
    "p_values = 2 * (1 - norm.cdf(np.abs(z_scores)))\n",
    "\n",
    "# 6. Rata-rata p-value per variabel\n",
    "feature_df = pd.DataFrame(p_values, columns=feature_names)\n",
    "feature_df.index = [f\"Class_{i}\" for i in range(len(model.classes_))]\n",
    "\n",
    "grouped_vars = {\n",
    "    'Pendidikan_Terakhir': [col for col in feature_names if col.startswith('Pendidikan_Terakhir_')],\n",
    "    'Pekerjaan_Kepala_Keluarga': [col for col in feature_names if col.startswith('Pekerjaan_Kepala_Keluarga_')],\n",
    "    'Kepemilikan_Kendaraan': [col for col in feature_names if col.startswith('Kepemilikan_Kendaraan_')],\n",
    "    'Kepemilikan_Aset': [col for col in feature_names if col.startswith('Kepemilikan_Aset_')],\n",
    "    'Usia': ['Usia'],\n",
    "    'Pendapatan_Bulanan': ['Pendapatan_Bulanan'],\n",
    "    'Pengeluaran_Bulanan': ['Pengeluaran_Bulanan'],\n",
    "    'Jumlah_Tanggungan': ['Jumlah_Tanggungan'],\n",
    "    'Jumlah_Kendaraan': ['Jumlah_Kendaraan']\n",
    "}\n",
    "\n",
    "pval_summary = pd.DataFrame(index=grouped_vars.keys(), columns=feature_df.index)\n",
    "for var, cols in grouped_vars.items():\n",
    "    for cls in feature_df.index:\n",
    "        pval_summary.loc[var, cls] = feature_df.loc[cls, cols].astype(float).mean()\n",
    "\n",
    "# 7. Tampilkan\n",
    "print(\"\\nP-Value per Variabel:\\n\")\n",
    "print(pval_summary.astype(float).round(4))\n"
   ],
   "id": "9949a7dee4812a57"
  },
  {
   "metadata": {},
   "cell_type": "code",
   "outputs": [],
   "execution_count": null,
   "source": [
    "# 7. Hitung p-value\n",
    "preds = model.predict_proba(X_encoded_df)\n",
    "coefs = model.coef_\n",
    "\n",
    "X_design = np.hstack([np.ones((X_encoded_df.shape[0], 1)), X_encoded_df.values])\n",
    "var_betas = []\n",
    "for i in range(coefs.shape[0]):\n",
    "    p = preds[:, i]\n",
    "    W = np.diag(p * (1 - p) + 1e-5)  # tambah noise kecil\n",
    "    XtWX_inv = np.linalg.pinv(X_design.T @ W @ X_design)\n",
    "    var_betas.append(np.diag(XtWX_inv)[1:])  # hilangkan intercept\n",
    "\n",
    "var_betas = np.array(var_betas)\n",
    "z_scores = coefs / np.sqrt(var_betas)\n",
    "p_values = 2 * (1 - norm.cdf(np.abs(z_scores)))\n",
    "\n",
    "# 8. Buat tabel hasil\n",
    "results = []\n",
    "for i, cls in enumerate(model.classes_):\n",
    "    for j, var in enumerate(feature_names):\n",
    "        results.append({\n",
    "            'Kelas': cls,\n",
    "            'Variabel': var,\n",
    "            'Koefisien': coefs[i, j],\n",
    "            'Standard Error': np.sqrt(var_betas[i, j]),\n",
    "            'Z': z_scores[i, j],\n",
    "            'P > |Z|': p_values[i, j]\n",
    "        })\n",
    "\n",
    "result_df = pd.DataFrame(results)\n",
    "\n",
    "# 9. Tampilkan\n",
    "print(\"\\nRingkasan Koefisien, SE, Z, dan P-value per Variabel per Kelas:\\n\")\n",
    "print(result_df.round(4))\n"
   ],
   "id": "80f227941deb9ece"
  },
  {
   "metadata": {},
   "cell_type": "code",
   "outputs": [],
   "execution_count": null,
   "source": [
    "import numpy as np\n",
    "import pandas as pd\n",
    "from sklearn.compose import ColumnTransformer\n",
    "from sklearn.preprocessing import OneHotEncoder\n",
    "from sklearn.linear_model import LogisticRegression\n",
    "from scipy.stats import norm\n",
    "\n",
    "# === PREPROCESSING ===\n",
    "preprocessor = ColumnTransformer([\n",
    "    ('cat', OneHotEncoder(drop='first', sparse_output=False), categorical_features)\n",
    "], remainder='passthrough')\n",
    "\n",
    "X_encoded = preprocessor.fit_transform(X_train)\n",
    "\n",
    "# Buat nama fitur (tanpa intercept dulu)\n",
    "feature_names = list(preprocessor.named_transformers_['cat'].get_feature_names_out(categorical_features)) + numeric_features\n",
    "\n",
    "# Tambahkan konstanta ke daftar nama fitur\n",
    "feature_names_with_const = ['Intercept'] + feature_names\n",
    "X_encoded_df = pd.DataFrame(X_encoded, columns=feature_names)\n",
    "\n",
    "# === FIT MODEL ===\n",
    "model = LogisticRegression(multi_class='multinomial', solver='lbfgs', max_iter=1000)\n",
    "model.fit(X_encoded_df, y_train)\n",
    "\n",
    "# === PREDIKSI & DESAIN ===\n",
    "preds = model.predict_proba(X_encoded_df)\n",
    "coefs = model.coef_  # shape: (n_classes, n_features)\n",
    "n_classes, n_features = coefs.shape\n",
    "\n",
    "# Tambahkan intercept ke desain matrix\n",
    "X_design = np.hstack([np.ones((X_encoded_df.shape[0], 1)), X_encoded_df.values])\n",
    "\n",
    "# === PERHITUNGAN STATISTIK ===\n",
    "intercepts = []\n",
    "var_betas = []\n",
    "for i in range(coefs.shape[0]):\n",
    "    p = preds[:, i]\n",
    "    W = np.diag(p * (1 - p) + 1e-5)  # stabilitas numerik\n",
    "    XtWX_inv = np.linalg.pinv(X_design.T @ W @ X_design)\n",
    "    var_beta = np.diag(XtWX_inv)\n",
    "    var_betas.append(var_beta)\n",
    "\n",
    "var_betas = np.array(var_betas)\n",
    "standard_errors = np.sqrt(var_betas)\n",
    "\n",
    "# Gabungkan intercept dan koefisien\n",
    "coefs_full = np.hstack([model.intercept_[:, np.newaxis], model.coef_])\n",
    "z_scores = coefs_full / standard_errors\n",
    "p_values = 2 * (1 - norm.cdf(np.abs(z_scores)))\n",
    "\n",
    "# Buat DataFrame dengan semua informasi\n",
    "pval_df = pd.DataFrame(p_values, columns=feature_names_with_const, index=[f\"Class_{i}\" for i in range(n_classes)])\n",
    "zscore_df = pd.DataFrame(z_scores, columns=feature_names_with_const, index=[f\"Class_{i}\" for i in range(n_classes)])\n",
    "stderr_df = pd.DataFrame(standard_errors, columns=feature_names_with_const, index=[f\"Class_{i}\" for i in range(n_classes)])\n",
    "\n",
    "# === PENGELOMPOKAN VARIABEL ===\n",
    "grouped_vars = {\n",
    "    'Intercept': ['Intercept'],\n",
    "    'Pendidikan_Terakhir': [col for col in feature_names if col.startswith('Pendidikan_Terakhir_')],\n",
    "    'Pekerjaan_Kepala_Keluarga': [col for col in feature_names if col.startswith('Pekerjaan_Kepala_Keluarga_')],\n",
    "    'Kepemilikan_Kendaraan': [col for col in feature_names if col.startswith('Kepemilikan_Kendaraan_')],\n",
    "    'Kepemilikan_Aset': [col for col in feature_names if col.startswith('Kepemilikan_Aset_')],\n",
    "    'Usia': ['Usia'],\n",
    "    'Pendapatan_Bulanan': ['Pendapatan_Bulanan'],\n",
    "    'Pengeluaran_Bulanan': ['Pengeluaran_Bulanan'],\n",
    "    'Jumlah_Tanggungan': ['Jumlah_Tanggungan'],\n",
    "    'Jumlah_Kendaraan': ['Jumlah_Kendaraan']\n",
    "}\n",
    "\n",
    "# === AGGREGASI ===\n",
    "def aggregate_stat(df):\n",
    "    out = pd.DataFrame(index=grouped_vars.keys(), columns=df.index)\n",
    "    for var, cols in grouped_vars.items():\n",
    "        for cls in df.index:\n",
    "            out.loc[var, cls] = df.loc[cls, cols].astype(float).mean()\n",
    "    return out.astype(float)\n",
    "\n",
    "# Ringkasan akhir\n",
    "pval_summary = aggregate_stat(pval_df)\n",
    "zscore_summary = aggregate_stat(zscore_df)\n",
    "stderr_summary = aggregate_stat(stderr_df)\n",
    "\n",
    "# OUTPUT\n",
    "pval_summary, zscore_summary, stderr_summary\n"
   ],
   "id": "cedaad81501502bd"
  }
 ],
 "metadata": {
  "kernelspec": {
   "display_name": "Python 3",
   "language": "python",
   "name": "python3"
  },
  "language_info": {
   "codemirror_mode": {
    "name": "ipython",
    "version": 2
   },
   "file_extension": ".py",
   "mimetype": "text/x-python",
   "name": "python",
   "nbconvert_exporter": "python",
   "pygments_lexer": "ipython2",
   "version": "2.7.6"
  }
 },
 "nbformat": 4,
 "nbformat_minor": 5
}
